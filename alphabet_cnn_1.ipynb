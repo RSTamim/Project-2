{
  "nbformat": 4,
  "nbformat_minor": 0,
  "metadata": {
    "kernelspec": {
      "language": "python",
      "display_name": "Python 3",
      "name": "python3"
    },
    "language_info": {
      "pygments_lexer": "ipython3",
      "nbconvert_exporter": "python",
      "version": "3.6.4",
      "file_extension": ".py",
      "codemirror_mode": {
        "name": "ipython",
        "version": 3
      },
      "name": "python",
      "mimetype": "text/x-python"
    },
    "colab": {
      "name": "alphabet-cnn-1.ipynb",
      "provenance": []
    }
  },
  "cells": [
    {
      "cell_type": "code",
      "metadata": {
        "_uuid": "8f2839f25d086af736a60e9eeb907d3b93b6e0e5",
        "_cell_guid": "b1076dfc-b9ad-4769-8c92-a6c4dae69d19",
        "execution": {
          "iopub.status.busy": "2021-08-28T14:26:13.701387Z",
          "iopub.execute_input": "2021-08-28T14:26:13.70177Z",
          "iopub.status.idle": "2021-08-28T14:26:13.708389Z",
          "shell.execute_reply.started": "2021-08-28T14:26:13.701731Z",
          "shell.execute_reply": "2021-08-28T14:26:13.707043Z"
        },
        "trusted": true,
        "id": "ZPGTmUT1Y0_x"
      },
      "source": [
        "#import all the libraries\n",
        "import os\n",
        "import string\n",
        "\n",
        "import numpy as np\n",
        "import torch\n",
        "import torch.nn as nn\n",
        "from torch.nn import functional as F\n",
        "from torch.optim import Adam\n",
        "from torch.utils.data import Dataset, DataLoader\n",
        "from torch.utils.data.sampler import SubsetRandomSampler\n",
        "\n",
        "import torchvision\n",
        "#from torchvision import models\n",
        "from torchvision import transforms\n",
        "from torchvision.transforms import ToTensor, Normalize"
      ],
      "execution_count": null,
      "outputs": []
    },
    {
      "cell_type": "code",
      "metadata": {
        "execution": {
          "iopub.status.busy": "2021-08-27T19:10:24.115172Z",
          "iopub.execute_input": "2021-08-27T19:10:24.115506Z",
          "iopub.status.idle": "2021-08-27T19:10:24.12121Z",
          "shell.execute_reply.started": "2021-08-27T19:10:24.115462Z",
          "shell.execute_reply": "2021-08-27T19:10:24.120377Z"
        },
        "trusted": true,
        "id": "eMgRLjJLY0_z"
      },
      "source": [
        "#ord('C') - ord('A')"
      ],
      "execution_count": null,
      "outputs": []
    },
    {
      "cell_type": "code",
      "metadata": {
        "execution": {
          "iopub.status.busy": "2021-08-28T14:26:20.28198Z",
          "iopub.execute_input": "2021-08-28T14:26:20.282465Z",
          "iopub.status.idle": "2021-08-28T14:26:20.295857Z",
          "shell.execute_reply.started": "2021-08-28T14:26:20.282434Z",
          "shell.execute_reply": "2021-08-28T14:26:20.294466Z"
        },
        "trusted": true,
        "id": "YxLSgX1AY0_0"
      },
      "source": [
        "#Train dataset config\n",
        "class ASLDatasetTrain(Dataset):\n",
        "    char_to_int = {c: ord(c) - ord('A') for c in string.ascii_uppercase}\n",
        "    char_to_int['del'] = 26\n",
        "    char_to_int['nothing'] = 27\n",
        "    char_to_int['space'] = 28\n",
        "    int_to_char = {value: key for key, value in char_to_int.items()}\n",
        "        \n",
        "    def __init__(self, directory: str, transform=None, label_transform=None):\n",
        "        super().__init__()\n",
        "        \n",
        "        self.directory = directory\n",
        "        self.transform = transform\n",
        "        self.label_transform = label_transform\n",
        "        \n",
        "        self.x = None\n",
        "        self.y = None\n",
        "        \n",
        "        self._load_images()\n",
        "    \n",
        "    def __getitem__(self, idx):\n",
        "        x, y = torchvision.io.read_image(self.x[idx]).type(torch.float32), self.y[idx]\n",
        "        \n",
        "        if self.transform:\n",
        "            x = self.transform(x)\n",
        "        if self.label_transform:\n",
        "            y = self.label_transform(y)\n",
        "        \n",
        "        return x, y\n",
        "    \n",
        "    def __len__(self):\n",
        "        return len(self.y)\n",
        "    \n",
        "    def _load_images(self):\n",
        "        self.x = []\n",
        "        self.y = []\n",
        "        \n",
        "        for c in os.listdir(self.directory):\n",
        "            class_name = c\n",
        "            class_dir = os.path.join(self.directory, class_name)\n",
        "            for img in os.listdir(class_dir):\n",
        "                self.x.append(os.path.join(class_dir, img))\n",
        "                self.y.append(self.char_to_int[class_name])\n",
        "                \n",
        "        self.y = torch.tensor(self.y, dtype=torch.int64)\n",
        "    \n",
        "    @staticmethod\n",
        "    def get_classname(idx: int) -> str:\n",
        "        return ASLDatasetTrain.int_to_char[idx]"
      ],
      "execution_count": null,
      "outputs": []
    },
    {
      "cell_type": "code",
      "metadata": {
        "execution": {
          "iopub.status.busy": "2021-08-28T14:26:26.402274Z",
          "iopub.execute_input": "2021-08-28T14:26:26.402683Z",
          "iopub.status.idle": "2021-08-28T14:26:26.417885Z",
          "shell.execute_reply.started": "2021-08-28T14:26:26.402653Z",
          "shell.execute_reply": "2021-08-28T14:26:26.416379Z"
        },
        "trusted": true,
        "id": "RYkIdSqRY0_1"
      },
      "source": [
        "#Test dataset config\n",
        "class ASLDatasetTest(Dataset):\n",
        "    char_to_int = {c: ord(c) - ord('A') for c in string.ascii_uppercase}\n",
        "    char_to_int['del'] = 26\n",
        "    char_to_int['nothing'] = 27\n",
        "    char_to_int['space'] = 28\n",
        "    int_to_char = {value: key for key, value in char_to_int.items()}\n",
        "        \n",
        "    def __init__(self, directory: str, transform=None, label_transform=None):\n",
        "        super().__init__()\n",
        "        \n",
        "        self.directory = directory\n",
        "        self.transform = transform\n",
        "        self.label_transform = label_transform\n",
        "        \n",
        "        self.x = None\n",
        "        self.y = None\n",
        "        \n",
        "        self._load_images()\n",
        "    \n",
        "    def __getitem__(self, idx):\n",
        "        x, y = torchvision.io.read_image(self.x[idx]).type(torch.float32), self.y[idx]\n",
        "        \n",
        "        if self.transform:\n",
        "            x = self.transform(x)\n",
        "        if self.label_transform:\n",
        "            y = self.label_transform(y)\n",
        "        \n",
        "        return x, y\n",
        "    \n",
        "    def __len__(self):\n",
        "        return len(self.y)\n",
        "    \n",
        "    def _load_images(self):\n",
        "        self.x = []\n",
        "        self.y = []\n",
        "        \n",
        "        for img in os.listdir(self.directory):\n",
        "            class_name = img [:1]\n",
        "            if 'space' in img:\n",
        "                class_name = 'space'\n",
        "            elif 'nothing' in img:\n",
        "                class_name = 'nothing'\n",
        "            elif 'del' in img:\n",
        "                class_name = 'del'    \n",
        "            self.x.append(os.path.join(self.directory, img))\n",
        "            self.y.append(self.char_to_int[class_name])\n",
        "                \n",
        "        self.y = torch.tensor(self.y, dtype=torch.int64)\n",
        "    \n",
        "    @staticmethod\n",
        "    def get_classname(idx: int) -> str:\n",
        "        return ASLDatasetTest.int_to_char[idx]"
      ],
      "execution_count": null,
      "outputs": []
    },
    {
      "cell_type": "code",
      "metadata": {
        "execution": {
          "iopub.status.busy": "2021-08-28T14:26:32.042381Z",
          "iopub.execute_input": "2021-08-28T14:26:32.042821Z",
          "iopub.status.idle": "2021-08-28T14:26:32.04859Z",
          "shell.execute_reply.started": "2021-08-28T14:26:32.042791Z",
          "shell.execute_reply": "2021-08-28T14:26:32.047377Z"
        },
        "trusted": true,
        "id": "8GAR5rSCY0_3"
      },
      "source": [
        "#Transformation\n",
        "ts = transforms.Compose([\n",
        "    transforms.Resize(256),\n",
        "    transforms.RandomCrop(224),\n",
        "    transforms.Normalize((0.485, 0.456, 0.406), (0.229, 0.224, 0.225))\n",
        "])"
      ],
      "execution_count": null,
      "outputs": []
    },
    {
      "cell_type": "code",
      "metadata": {
        "execution": {
          "iopub.status.busy": "2021-08-28T16:55:54.683697Z",
          "iopub.execute_input": "2021-08-28T16:55:54.684055Z",
          "iopub.status.idle": "2021-08-28T16:55:54.744387Z",
          "shell.execute_reply.started": "2021-08-28T16:55:54.684025Z",
          "shell.execute_reply": "2021-08-28T16:55:54.743323Z"
        },
        "trusted": true,
        "id": "QuoCMMskY0_3"
      },
      "source": [
        "#All the data store in train and test\n",
        "train = ASLDatasetTrain('../input/fingerdataset/dataset/train', transform=ts)\n",
        "test = ASLDatasetTest('../input/fingerdataset/dataset/test', transform=ts)"
      ],
      "execution_count": null,
      "outputs": []
    },
    {
      "cell_type": "code",
      "metadata": {
        "execution": {
          "iopub.status.busy": "2021-08-28T14:26:38.233001Z",
          "iopub.execute_input": "2021-08-28T14:26:38.233373Z",
          "iopub.status.idle": "2021-08-28T14:26:38.240137Z",
          "shell.execute_reply.started": "2021-08-28T14:26:38.233341Z",
          "shell.execute_reply": "2021-08-28T14:26:38.238643Z"
        },
        "trusted": true,
        "id": "sia1eIm2Y0_4"
      },
      "source": [
        "#Train and test data print\n",
        "print(len(train))\n",
        "print(len(test))"
      ],
      "execution_count": null,
      "outputs": []
    },
    {
      "cell_type": "code",
      "metadata": {
        "execution": {
          "iopub.status.busy": "2021-08-28T14:26:42.317019Z",
          "iopub.execute_input": "2021-08-28T14:26:42.317541Z",
          "iopub.status.idle": "2021-08-28T14:26:42.328603Z",
          "shell.execute_reply.started": "2021-08-28T14:26:42.317507Z",
          "shell.execute_reply": "2021-08-28T14:26:42.327187Z"
        },
        "trusted": true,
        "id": "HVWbVzraY0_5"
      },
      "source": [
        "#test path\n",
        "test.x"
      ],
      "execution_count": null,
      "outputs": []
    },
    {
      "cell_type": "code",
      "metadata": {
        "execution": {
          "iopub.status.busy": "2021-08-28T14:26:47.926024Z",
          "iopub.execute_input": "2021-08-28T14:26:47.926411Z",
          "iopub.status.idle": "2021-08-28T14:26:47.956531Z",
          "shell.execute_reply.started": "2021-08-28T14:26:47.926378Z",
          "shell.execute_reply": "2021-08-28T14:26:47.955432Z"
        },
        "trusted": true,
        "id": "1HI9Q7nxY0_7"
      },
      "source": [
        "#train path\n",
        "train.x"
      ],
      "execution_count": null,
      "outputs": []
    },
    {
      "cell_type": "code",
      "metadata": {
        "execution": {
          "iopub.status.busy": "2021-08-28T14:26:58.005058Z",
          "iopub.execute_input": "2021-08-28T14:26:58.005421Z",
          "iopub.status.idle": "2021-08-28T14:26:58.013287Z",
          "shell.execute_reply.started": "2021-08-28T14:26:58.005392Z",
          "shell.execute_reply": "2021-08-28T14:26:58.011994Z"
        },
        "trusted": true,
        "id": "mBZjkQtjY0_7"
      },
      "source": [
        "#sampler\n",
        "train_sampler = SubsetRandomSampler(np.arange(len(train)))\n",
        "test_sampler = SubsetRandomSampler(np.arange(len(test)))"
      ],
      "execution_count": null,
      "outputs": []
    },
    {
      "cell_type": "code",
      "metadata": {
        "execution": {
          "iopub.status.busy": "2021-08-28T14:27:03.668379Z",
          "iopub.execute_input": "2021-08-28T14:27:03.668789Z",
          "iopub.status.idle": "2021-08-28T14:27:03.675552Z",
          "shell.execute_reply.started": "2021-08-28T14:27:03.668757Z",
          "shell.execute_reply": "2021-08-28T14:27:03.674193Z"
        },
        "trusted": true,
        "id": "wzJYtOHOY0_8"
      },
      "source": [
        "#train and test loader using sampler\n",
        "train_loader = DataLoader(train, 32, sampler=train_sampler)\n",
        "test_loader = DataLoader(test, 32, sampler=test_sampler)"
      ],
      "execution_count": null,
      "outputs": []
    },
    {
      "cell_type": "code",
      "metadata": {
        "execution": {
          "iopub.status.busy": "2021-08-28T14:27:05.870358Z",
          "iopub.execute_input": "2021-08-28T14:27:05.87074Z",
          "iopub.status.idle": "2021-08-28T14:27:12.187797Z",
          "shell.execute_reply.started": "2021-08-28T14:27:05.870709Z",
          "shell.execute_reply": "2021-08-28T14:27:12.185143Z"
        },
        "trusted": true,
        "id": "-5LyX4RVY0_9"
      },
      "source": [
        "for x, y in train_loader:\n",
        "    print(x.shape)\n",
        "    print(y.shape)"
      ],
      "execution_count": null,
      "outputs": []
    },
    {
      "cell_type": "markdown",
      "metadata": {
        "id": "8gwfa_K2Y0_-"
      },
      "source": [
        "# **Alexnet**"
      ]
    },
    {
      "cell_type": "code",
      "metadata": {
        "execution": {
          "iopub.status.busy": "2021-08-28T14:27:15.733698Z",
          "iopub.execute_input": "2021-08-28T14:27:15.734081Z",
          "iopub.status.idle": "2021-08-28T14:27:15.747764Z",
          "shell.execute_reply.started": "2021-08-28T14:27:15.734033Z",
          "shell.execute_reply": "2021-08-28T14:27:15.746379Z"
        },
        "trusted": true,
        "id": "EZuw-ycFY1AA"
      },
      "source": [
        "class AlexNet(nn.Module):\n",
        "    def __init__(self, num_classes: int = 1000) -> None:\n",
        "        super(AlexNet, self).__init__()\n",
        "        \n",
        "        self.features = nn.Sequential(\n",
        "            nn.Conv2d(3, 64, kernel_size=11, stride=4, padding=2),\n",
        "            nn.ReLU(inplace=True),\n",
        "            nn.MaxPool2d(kernel_size=3, stride=2),\n",
        "            nn.Conv2d(64, 192, kernel_size=5, padding=2),\n",
        "            nn.ReLU(inplace=True),\n",
        "            nn.MaxPool2d(kernel_size=3, stride=2),\n",
        "            nn.Conv2d(192, 384, kernel_size=3, padding=1),\n",
        "            nn.ReLU(inplace=True),\n",
        "            nn.Conv2d(384, 256, kernel_size=3, padding=1),\n",
        "            nn.ReLU(inplace=True),\n",
        "            nn.Conv2d(256, 256, kernel_size=3, padding=1),\n",
        "            nn.ReLU(inplace=True),\n",
        "            nn.MaxPool2d(kernel_size=3, stride=2),\n",
        "        )\n",
        "        self.avgpool = nn.AdaptiveAvgPool2d((6, 6))\n",
        "        \n",
        "        self.classifier = nn.Sequential(\n",
        "            nn.Dropout(),\n",
        "            nn.Linear(256 * 6 * 6, 4096),\n",
        "            nn.ReLU(inplace=True),\n",
        "            nn.Dropout(),\n",
        "            nn.Linear(4096, 4096),\n",
        "            nn.ReLU(inplace=True),\n",
        "            nn.Linear(4096, num_classes),\n",
        "        )\n",
        "\n",
        "    def forward(self, x: torch.Tensor) -> torch.Tensor:\n",
        "        x = self.features(x)\n",
        "        x = self.avgpool(x)\n",
        "        x = torch.flatten(x, 1)\n",
        "        x = self.classifier(x)\n",
        "        return x"
      ],
      "execution_count": null,
      "outputs": []
    },
    {
      "cell_type": "code",
      "metadata": {
        "execution": {
          "iopub.status.busy": "2021-08-28T14:27:19.090971Z",
          "iopub.execute_input": "2021-08-28T14:27:19.091402Z",
          "iopub.status.idle": "2021-08-28T14:27:19.604898Z",
          "shell.execute_reply.started": "2021-08-28T14:27:19.091341Z",
          "shell.execute_reply": "2021-08-28T14:27:19.603856Z"
        },
        "trusted": true,
        "id": "rzbOoqMKY1AB"
      },
      "source": [
        "model = AlexNet(29)"
      ],
      "execution_count": null,
      "outputs": []
    },
    {
      "cell_type": "code",
      "metadata": {
        "execution": {
          "iopub.status.busy": "2021-08-28T14:27:21.474129Z",
          "iopub.execute_input": "2021-08-28T14:27:21.474511Z",
          "iopub.status.idle": "2021-08-28T14:27:21.496532Z",
          "shell.execute_reply.started": "2021-08-28T14:27:21.474481Z",
          "shell.execute_reply": "2021-08-28T14:27:21.495374Z"
        },
        "trusted": true,
        "id": "jaVLJO6vY1AB"
      },
      "source": [
        "#using adam optimizer\n",
        "criterion = nn.CrossEntropyLoss()\n",
        "optimizer = Adam(model.parameters(), lr=0.0001)"
      ],
      "execution_count": null,
      "outputs": []
    },
    {
      "cell_type": "code",
      "metadata": {
        "execution": {
          "iopub.status.busy": "2021-08-28T14:27:24.590365Z",
          "iopub.execute_input": "2021-08-28T14:27:24.590707Z",
          "iopub.status.idle": "2021-08-28T14:27:24.597532Z",
          "shell.execute_reply.started": "2021-08-28T14:27:24.590677Z",
          "shell.execute_reply": "2021-08-28T14:27:24.595739Z"
        },
        "trusted": true,
        "id": "9kI5dGi9Y1AC"
      },
      "source": [
        "#print minibatch of the train data\n",
        "print(len(train_loader.dataset))\n",
        "print(len(train_loader))"
      ],
      "execution_count": null,
      "outputs": []
    },
    {
      "cell_type": "code",
      "metadata": {
        "execution": {
          "iopub.status.busy": "2021-08-28T14:27:29.463475Z",
          "iopub.execute_input": "2021-08-28T14:27:29.464102Z",
          "iopub.status.idle": "2021-08-28T14:56:52.17628Z",
          "shell.execute_reply.started": "2021-08-28T14:27:29.464035Z",
          "shell.execute_reply": "2021-08-28T14:56:52.175183Z"
        },
        "trusted": true,
        "id": "8KN7CI90Y1AC"
      },
      "source": [
        "epochs = 20\n",
        "\n",
        "for e in range(epochs):\n",
        "    running_loss = 0.0\n",
        "    \n",
        "    for i, (imgs, labels) in enumerate(train_loader):\n",
        "        outputs = model(imgs)\n",
        "        loss = criterion(outputs, labels)\n",
        "        \n",
        "        optimizer.zero_grad()\n",
        "        loss.backward()\n",
        "        optimizer.step()\n",
        "        \n",
        "        running_loss += loss.item()\n",
        "        if i % 13 == 12:\n",
        "            print('[Epoch %d, Step %5d] loss: %.3f' %\n",
        "                  (e + 1, i + 1, running_loss / 13))\n",
        "            running_loss = 0.0"
      ],
      "execution_count": null,
      "outputs": []
    },
    {
      "cell_type": "code",
      "metadata": {
        "execution": {
          "iopub.status.busy": "2021-08-28T14:57:22.533551Z",
          "iopub.execute_input": "2021-08-28T14:57:22.534202Z",
          "iopub.status.idle": "2021-08-28T14:57:22.54553Z",
          "shell.execute_reply.started": "2021-08-28T14:57:22.534139Z",
          "shell.execute_reply": "2021-08-28T14:57:22.543874Z"
        },
        "trusted": true,
        "id": "NkhOdBP9Y1AD"
      },
      "source": [
        "def test(dataloader, model, loss_fn):\n",
        "    size = len(dataloader.dataset)\n",
        "    num_batches = len(dataloader)\n",
        "    model.eval()\n",
        "    test_loss, correct = 0, 0\n",
        "    with torch.no_grad():\n",
        "        for X, y in dataloader:\n",
        "            pred = model(X)\n",
        "            test_loss += loss_fn(pred, y).item()\n",
        "            correct += (pred.argmax(1) == y).type(torch.float).sum().item()\n",
        "    test_loss /= num_batches\n",
        "    correct /= size\n",
        "    print(f\"Test Error: \\nAccuracy: {(100*correct):>0.1f}%, Avg loss: {test_loss:>8f} \\n\")"
      ],
      "execution_count": null,
      "outputs": []
    },
    {
      "cell_type": "code",
      "metadata": {
        "execution": {
          "iopub.status.busy": "2021-08-28T14:57:26.964912Z",
          "iopub.execute_input": "2021-08-28T14:57:26.965299Z",
          "iopub.status.idle": "2021-08-28T14:57:34.595228Z",
          "shell.execute_reply.started": "2021-08-28T14:57:26.965262Z",
          "shell.execute_reply": "2021-08-28T14:57:34.593393Z"
        },
        "trusted": true,
        "id": "j-8PcXQ-Y1AF"
      },
      "source": [
        "test(test_loader, model, nn.CrossEntropyLoss())"
      ],
      "execution_count": null,
      "outputs": []
    },
    {
      "cell_type": "code",
      "metadata": {
        "execution": {
          "iopub.status.busy": "2021-08-28T14:57:38.665122Z",
          "iopub.execute_input": "2021-08-28T14:57:38.665491Z",
          "iopub.status.idle": "2021-08-28T14:57:45.399015Z",
          "shell.execute_reply.started": "2021-08-28T14:57:38.665461Z",
          "shell.execute_reply": "2021-08-28T14:57:45.397755Z"
        },
        "trusted": true,
        "id": "UuFwU5x-Y1AF"
      },
      "source": [
        "#each class accuracy\n",
        "class_correct = list(0. for i in range(29))\n",
        "class_total = list(0. for i in range(29))\n",
        "\n",
        "with torch.no_grad():\n",
        "    for data in test_loader:\n",
        "        images, labels = data\n",
        "        outputs = model(images)\n",
        "        _, predicted = torch.max(outputs, 1)\n",
        "        c = (predicted == labels).squeeze()\n",
        "        for i in range(len(labels)):\n",
        "            label = labels[i]\n",
        "            class_correct[label] += c[i].item()\n",
        "            class_total[label] += 1\n",
        "\n",
        "\n",
        "for i in range(29):\n",
        "    print('Accuracy of %5s : %2d %%' % (\n",
        "        ASLDatasetTest.int_to_char[i], 100 * class_correct[i] / class_total[i]))"
      ],
      "execution_count": null,
      "outputs": []
    },
    {
      "cell_type": "markdown",
      "metadata": {
        "id": "qDdoDR0RY1AG"
      },
      "source": [
        "# **Pre-trained AlexNet**"
      ]
    },
    {
      "cell_type": "code",
      "metadata": {
        "execution": {
          "iopub.status.busy": "2021-08-28T14:58:11.997237Z",
          "iopub.execute_input": "2021-08-28T14:58:11.997643Z",
          "iopub.status.idle": "2021-08-28T14:58:12.004379Z",
          "shell.execute_reply.started": "2021-08-28T14:58:11.997609Z",
          "shell.execute_reply": "2021-08-28T14:58:12.001912Z"
        },
        "trusted": true,
        "id": "k0ccZ-NyY1AG"
      },
      "source": [
        "from torchvision import models"
      ],
      "execution_count": null,
      "outputs": []
    },
    {
      "cell_type": "markdown",
      "metadata": {
        "id": "yUyBShYhY1AG"
      },
      "source": [
        "**Issue on kaggle anyone trying to download the model will fail if the internet option is off at the bottom right.**"
      ]
    },
    {
      "cell_type": "code",
      "metadata": {
        "execution": {
          "iopub.status.busy": "2021-08-28T14:58:22.260261Z",
          "iopub.execute_input": "2021-08-28T14:58:22.260776Z",
          "iopub.status.idle": "2021-08-28T14:58:23.385304Z",
          "shell.execute_reply.started": "2021-08-28T14:58:22.260733Z",
          "shell.execute_reply": "2021-08-28T14:58:23.384277Z"
        },
        "trusted": true,
        "id": "RLGSjf4fY1AH"
      },
      "source": [
        "model = models.alexnet(pretrained=True)"
      ],
      "execution_count": null,
      "outputs": []
    },
    {
      "cell_type": "code",
      "metadata": {
        "execution": {
          "iopub.status.busy": "2021-08-28T14:58:26.514001Z",
          "iopub.execute_input": "2021-08-28T14:58:26.51462Z",
          "iopub.status.idle": "2021-08-28T14:58:26.52064Z",
          "shell.execute_reply.started": "2021-08-28T14:58:26.51456Z",
          "shell.execute_reply": "2021-08-28T14:58:26.519481Z"
        },
        "trusted": true,
        "id": "UQPowQ9LY1AH"
      },
      "source": [
        "for param in model.parameters():\n",
        "    param.requires_grad = False"
      ],
      "execution_count": null,
      "outputs": []
    },
    {
      "cell_type": "code",
      "metadata": {
        "execution": {
          "iopub.status.busy": "2021-08-28T14:58:29.770431Z",
          "iopub.execute_input": "2021-08-28T14:58:29.770838Z",
          "iopub.status.idle": "2021-08-28T14:58:29.776501Z",
          "shell.execute_reply.started": "2021-08-28T14:58:29.770809Z",
          "shell.execute_reply": "2021-08-28T14:58:29.775128Z"
        },
        "trusted": true,
        "id": "yGC_W2w6Y1AH"
      },
      "source": [
        "print(model)"
      ],
      "execution_count": null,
      "outputs": []
    },
    {
      "cell_type": "code",
      "metadata": {
        "execution": {
          "iopub.status.busy": "2021-08-28T14:58:35.281607Z",
          "iopub.execute_input": "2021-08-28T14:58:35.281996Z",
          "iopub.status.idle": "2021-08-28T14:58:35.811856Z",
          "shell.execute_reply.started": "2021-08-28T14:58:35.281964Z",
          "shell.execute_reply": "2021-08-28T14:58:35.81077Z"
        },
        "trusted": true,
        "id": "76D0Uf8cY1AI"
      },
      "source": [
        "\n",
        "new_clf = nn.Sequential(\n",
        "    nn.Dropout(p=0.5, inplace=False),\n",
        "    nn.Linear(in_features=9216, out_features=4096, bias=True),\n",
        "    nn.ReLU(inplace=True),\n",
        "    nn.Dropout(p=0.5, inplace=False),\n",
        "    nn.Linear(in_features=4096, out_features=4096, bias=True),\n",
        "    nn.ReLU(inplace=True),\n",
        "    nn.Linear(in_features=4096, out_features=1000, bias=True),\n",
        "    nn.ReLU(inplace=True),\n",
        "    nn.Linear(in_features=1000, out_features=29, bias=True),\n",
        ")"
      ],
      "execution_count": null,
      "outputs": []
    },
    {
      "cell_type": "code",
      "metadata": {
        "execution": {
          "iopub.status.busy": "2021-08-28T14:58:38.505587Z",
          "iopub.execute_input": "2021-08-28T14:58:38.505994Z",
          "iopub.status.idle": "2021-08-28T14:58:38.519947Z",
          "shell.execute_reply.started": "2021-08-28T14:58:38.505963Z",
          "shell.execute_reply": "2021-08-28T14:58:38.518758Z"
        },
        "trusted": true,
        "id": "gaMJ_oPKY1AJ"
      },
      "source": [
        "model.classifier = new_clf"
      ],
      "execution_count": null,
      "outputs": []
    },
    {
      "cell_type": "code",
      "metadata": {
        "execution": {
          "iopub.status.busy": "2021-08-28T14:58:41.184308Z",
          "iopub.execute_input": "2021-08-28T14:58:41.184817Z",
          "iopub.status.idle": "2021-08-28T14:58:41.209923Z",
          "shell.execute_reply.started": "2021-08-28T14:58:41.184779Z",
          "shell.execute_reply": "2021-08-28T14:58:41.208696Z"
        },
        "trusted": true,
        "id": "rGK9rJ8PY1AK"
      },
      "source": [
        "criterion = nn.CrossEntropyLoss()\n",
        "optimizer = Adam(model.parameters(), lr=0.0001)"
      ],
      "execution_count": null,
      "outputs": []
    },
    {
      "cell_type": "code",
      "metadata": {
        "execution": {
          "iopub.status.busy": "2021-08-28T15:00:02.866607Z",
          "iopub.execute_input": "2021-08-28T15:00:02.866961Z",
          "iopub.status.idle": "2021-08-28T15:18:46.555769Z",
          "shell.execute_reply.started": "2021-08-28T15:00:02.86693Z",
          "shell.execute_reply": "2021-08-28T15:18:46.554644Z"
        },
        "trusted": true,
        "id": "_mLqq5F7Y1AK"
      },
      "source": [
        "epochs = 20\n",
        "\n",
        "for e in range(epochs):\n",
        "    running_loss = 0.0\n",
        "    for i, (imgs, labels) in enumerate(train_loader):\n",
        "        outputs = model(imgs)\n",
        "        loss = criterion(outputs, labels)\n",
        "        \n",
        "        optimizer.zero_grad()\n",
        "        loss.backward()\n",
        "        optimizer.step()\n",
        "        \n",
        "        running_loss += loss.item()\n",
        "        if i % 13 == 12:\n",
        "            print('[Epoch %d, Step %5d] loss: %.3f' %\n",
        "                  (e + 1, i + 1, running_loss / 13))\n",
        "            running_loss = 0.0"
      ],
      "execution_count": null,
      "outputs": []
    },
    {
      "cell_type": "code",
      "metadata": {
        "execution": {
          "iopub.status.busy": "2021-08-28T15:18:54.496783Z",
          "iopub.execute_input": "2021-08-28T15:18:54.497165Z",
          "iopub.status.idle": "2021-08-28T15:19:02.29198Z",
          "shell.execute_reply.started": "2021-08-28T15:18:54.497132Z",
          "shell.execute_reply": "2021-08-28T15:19:02.290933Z"
        },
        "trusted": true,
        "id": "wgO4bWFHY1AL"
      },
      "source": [
        "test(test_loader, model, nn.CrossEntropyLoss())"
      ],
      "execution_count": null,
      "outputs": []
    },
    {
      "cell_type": "markdown",
      "metadata": {
        "id": "EweQVmPdY1AN"
      },
      "source": [
        "# ResNet101"
      ]
    },
    {
      "cell_type": "code",
      "metadata": {
        "execution": {
          "iopub.status.busy": "2021-08-28T15:20:10.19136Z",
          "iopub.execute_input": "2021-08-28T15:20:10.191776Z",
          "iopub.status.idle": "2021-08-28T15:20:11.64868Z",
          "shell.execute_reply.started": "2021-08-28T15:20:10.191746Z",
          "shell.execute_reply": "2021-08-28T15:20:11.647355Z"
        },
        "trusted": true,
        "id": "sIMF9X1fY1AN"
      },
      "source": [
        "#Used resnet 101 instead of resnet 152\n",
        "model = models.resnet101(pretrained=True)"
      ],
      "execution_count": null,
      "outputs": []
    },
    {
      "cell_type": "code",
      "metadata": {
        "execution": {
          "iopub.status.busy": "2021-08-28T15:20:14.727154Z",
          "iopub.execute_input": "2021-08-28T15:20:14.727562Z",
          "iopub.status.idle": "2021-08-28T15:20:14.741065Z",
          "shell.execute_reply.started": "2021-08-28T15:20:14.727531Z",
          "shell.execute_reply": "2021-08-28T15:20:14.739714Z"
        },
        "trusted": true,
        "id": "izGgZTt9Y1AO"
      },
      "source": [
        "print(model)"
      ],
      "execution_count": null,
      "outputs": []
    },
    {
      "cell_type": "code",
      "metadata": {
        "execution": {
          "iopub.status.busy": "2021-08-28T15:20:21.932487Z",
          "iopub.execute_input": "2021-08-28T15:20:21.932881Z",
          "iopub.status.idle": "2021-08-28T15:20:21.959812Z",
          "shell.execute_reply.started": "2021-08-28T15:20:21.93285Z",
          "shell.execute_reply": "2021-08-28T15:20:21.958823Z"
        },
        "trusted": true,
        "id": "tSV-fYCKY1AP"
      },
      "source": [
        "new_fc = torch.nn.Sequential(\n",
        "    nn.Linear(in_features=2048, out_features=1000, bias=True),\n",
        "    nn.ReLU(inplace=True),\n",
        "    nn.Linear(in_features=1000, out_features=29, bias=True),\n",
        ")"
      ],
      "execution_count": null,
      "outputs": []
    },
    {
      "cell_type": "code",
      "metadata": {
        "execution": {
          "iopub.status.busy": "2021-08-28T15:20:24.346504Z",
          "iopub.execute_input": "2021-08-28T15:20:24.346942Z",
          "iopub.status.idle": "2021-08-28T15:20:24.353145Z",
          "shell.execute_reply.started": "2021-08-28T15:20:24.34691Z",
          "shell.execute_reply": "2021-08-28T15:20:24.351822Z"
        },
        "trusted": true,
        "id": "SRHDqY5vY1AQ"
      },
      "source": [
        "model.fc = new_fc"
      ],
      "execution_count": null,
      "outputs": []
    },
    {
      "cell_type": "code",
      "metadata": {
        "execution": {
          "iopub.status.busy": "2021-08-28T15:20:26.52021Z",
          "iopub.execute_input": "2021-08-28T15:20:26.520671Z",
          "iopub.status.idle": "2021-08-28T15:20:26.548543Z",
          "shell.execute_reply.started": "2021-08-28T15:20:26.520617Z",
          "shell.execute_reply": "2021-08-28T15:20:26.547143Z"
        },
        "trusted": true,
        "id": "ltuD2sjZY1AQ"
      },
      "source": [
        "criterion = nn.CrossEntropyLoss()\n",
        "optimizer = Adam(model.parameters(), lr=0.0001)"
      ],
      "execution_count": null,
      "outputs": []
    },
    {
      "cell_type": "code",
      "metadata": {
        "execution": {
          "iopub.status.busy": "2021-08-28T15:28:21.359201Z",
          "iopub.execute_input": "2021-08-28T15:28:21.359653Z",
          "iopub.status.idle": "2021-08-28T16:46:20.278451Z",
          "shell.execute_reply.started": "2021-08-28T15:28:21.359591Z",
          "shell.execute_reply": "2021-08-28T16:46:20.27619Z"
        },
        "trusted": true,
        "id": "JhYMf5ewY1AR"
      },
      "source": [
        "epochs = 5\n",
        "\n",
        "for e in range(epochs):\n",
        "    running_loss = 0.0\n",
        "    for i, (imgs, labels) in enumerate(train_loader):\n",
        "        outputs = model(imgs)\n",
        "        loss = criterion(outputs, labels)\n",
        "        \n",
        "        optimizer.zero_grad()\n",
        "        loss.backward()\n",
        "        optimizer.step()\n",
        "        \n",
        "        running_loss += loss.item()\n",
        "        if i % 13 == 12:\n",
        "            print('[Epoch %d, Step %5d] loss: %.3f' %\n",
        "                  (e + 1, i + 1, running_loss / 12))\n",
        "            running_loss = 0.0"
      ],
      "execution_count": null,
      "outputs": []
    },
    {
      "cell_type": "code",
      "metadata": {
        "execution": {
          "iopub.status.busy": "2021-08-28T16:46:26.636836Z",
          "iopub.execute_input": "2021-08-28T16:46:26.637229Z",
          "iopub.status.idle": "2021-08-28T16:47:31.479766Z",
          "shell.execute_reply.started": "2021-08-28T16:46:26.637199Z",
          "shell.execute_reply": "2021-08-28T16:47:31.478402Z"
        },
        "trusted": true,
        "id": "6TUv7ChCY1AS"
      },
      "source": [
        "test(test_loader, model, nn.CrossEntropyLoss())"
      ],
      "execution_count": null,
      "outputs": []
    }
  ]
}